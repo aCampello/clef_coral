{
 "cells": [
  {
   "cell_type": "code",
   "execution_count": 33,
   "metadata": {
    "execution": {
     "iopub.execute_input": "2021-05-23T12:33:01.986673Z",
     "iopub.status.busy": "2021-05-23T12:33:01.986396Z",
     "iopub.status.idle": "2021-05-23T12:33:04.422798Z",
     "shell.execute_reply": "2021-05-23T12:33:04.421610Z",
     "shell.execute_reply.started": "2021-05-23T12:33:01.986638Z"
    },
    "tags": []
   },
   "outputs": [],
   "source": [
    "from collections import defaultdict\n",
    "import os\n",
    "import requests\n",
    "import sys\n",
    "\n",
    "sys.path.append('..')\n",
    "\n",
    "import pandas as pd\n",
    "from tqdm import tqdm\n",
    "\n",
    "from pixel_accuracy import read_annotations_gt, convert_pixel_images SUBSTRATE_LIST, SUBSTRATE_TO_IDX"
   ]
  },
  {
   "cell_type": "markdown",
   "metadata": {
    "tags": []
   },
   "source": [
    "## 1. Pixel distribution for training data"
   ]
  },
  {
   "cell_type": "code",
   "execution_count": 14,
   "metadata": {
    "execution": {
     "iopub.execute_input": "2021-05-23T12:26:26.563836Z",
     "iopub.status.busy": "2021-05-23T12:26:26.563326Z",
     "iopub.status.idle": "2021-05-23T12:26:28.163986Z",
     "shell.execute_reply": "2021-05-23T12:26:28.162570Z",
     "shell.execute_reply.started": "2021-05-23T12:26:26.563794Z"
    },
    "tags": []
   },
   "outputs": [],
   "source": [
    "gt_test = read_annotations_gt(file='/Users/campea/Downloads/training_set_task_2.csv', task=2)"
   ]
  },
  {
   "cell_type": "code",
   "execution_count": 15,
   "metadata": {
    "execution": {
     "iopub.execute_input": "2021-05-23T12:26:29.012458Z",
     "iopub.status.busy": "2021-05-23T12:26:29.012022Z",
     "iopub.status.idle": "2021-05-23T12:27:02.179471Z",
     "shell.execute_reply": "2021-05-23T12:27:02.174672Z",
     "shell.execute_reply.started": "2021-05-23T12:26:29.012419Z"
    },
    "tags": []
   },
   "outputs": [
    {
     "name": "stderr",
     "output_type": "stream",
     "text": [
      "100%|██████████| 879/879 [00:33<00:00, 26.56it/s]\n"
     ]
    }
   ],
   "source": [
    "pixel_images = convert_pixel_images(gt_test)"
   ]
  },
  {
   "cell_type": "code",
   "execution_count": 9,
   "metadata": {
    "execution": {
     "iopub.execute_input": "2021-05-22T17:50:04.627723Z",
     "iopub.status.busy": "2021-05-22T17:50:04.627416Z",
     "iopub.status.idle": "2021-05-22T17:50:04.643072Z",
     "shell.execute_reply": "2021-05-22T17:50:04.634205Z",
     "shell.execute_reply.started": "2021-05-22T17:50:04.627690Z"
    },
    "tags": []
   },
   "outputs": [
    {
     "data": {
      "text/plain": [
       "(4032, 3024)"
      ]
     },
     "execution_count": 9,
     "metadata": {},
     "output_type": "execute_result"
    }
   ],
   "source": [
    "pixel_images['2018_0714_112608_061'].shape"
   ]
  },
  {
   "cell_type": "code",
   "execution_count": 93,
   "metadata": {
    "execution": {
     "iopub.execute_input": "2021-05-23T14:59:25.702624Z",
     "iopub.status.busy": "2021-05-23T14:59:25.702367Z",
     "iopub.status.idle": "2021-05-23T14:59:25.725815Z",
     "shell.execute_reply": "2021-05-23T14:59:25.721400Z",
     "shell.execute_reply.started": "2021-05-23T14:59:25.702597Z"
    },
    "tags": []
   },
   "outputs": [],
   "source": [
    "def calculate_distribution(pixel_images):\n",
    "    pixel_distribution = defaultdict(int)\n",
    "    number_objects = defaultdict(int)\n",
    "\n",
    "    for image in tqdm(pixel_images.values()):\n",
    "        non_background = 0\n",
    "        for name, idx in SUBSTRATE_TO_IDX.items():\n",
    "            pixels_substrate = (image == idx).sum()\n",
    "            pixel_distribution[name] += pixels_substrate\n",
    "            non_background += pixels_substrate\n",
    "            number_objects[name] += 1*(pixels_substrate>0)\n",
    "        pixel_distribution['background'] += (4032*3024-non_background)\n",
    "        \n",
    "    return pixel_distribution, number_objects"
   ]
  },
  {
   "cell_type": "code",
   "execution_count": 11,
   "metadata": {
    "collapsed": true,
    "execution": {
     "iopub.execute_input": "2021-05-22T17:50:13.005135Z",
     "iopub.status.busy": "2021-05-22T17:50:13.004788Z",
     "iopub.status.idle": "2021-05-22T17:54:10.605495Z",
     "shell.execute_reply": "2021-05-22T17:54:10.602594Z",
     "shell.execute_reply.started": "2021-05-22T17:50:13.005095Z"
    },
    "jupyter": {
     "outputs_hidden": true
    },
    "tags": []
   },
   "outputs": [
    {
     "name": "stderr",
     "output_type": "stream",
     "text": [
      "100%|██████████| 879/879 [03:57<00:00,  3.70it/s]\n"
     ]
    }
   ],
   "source": [
    "pixel_distribution, number_objects = calculate_distribution(pixel_images)"
   ]
  },
  {
   "cell_type": "code",
   "execution_count": 15,
   "metadata": {
    "execution": {
     "iopub.execute_input": "2021-05-22T18:09:04.830605Z",
     "iopub.status.busy": "2021-05-22T18:09:04.830234Z",
     "iopub.status.idle": "2021-05-22T18:09:04.852686Z",
     "shell.execute_reply": "2021-05-22T18:09:04.848100Z",
     "shell.execute_reply.started": "2021-05-22T18:09:04.830573Z"
    },
    "tags": []
   },
   "outputs": [
    {
     "name": "stdout",
     "output_type": "stream",
     "text": [
      "8558178890\n"
     ]
    }
   ],
   "source": [
    "print(pixel_distribution['background']/(len(pixel_images)*4032*3024))\n",
    "del pixel_distribution['background']"
   ]
  },
  {
   "cell_type": "code",
   "execution_count": null,
   "metadata": {},
   "outputs": [],
   "source": [
    "print(pixel_distribution['background']/(len(pixel_images)*4032*3024))\n",
    "del pixel_distribution['background']"
   ]
  },
  {
   "cell_type": "code",
   "execution_count": 16,
   "metadata": {
    "execution": {
     "iopub.execute_input": "2021-05-22T18:09:14.579368Z",
     "iopub.status.busy": "2021-05-22T18:09:14.579107Z",
     "iopub.status.idle": "2021-05-22T18:09:14.597202Z",
     "shell.execute_reply": "2021-05-22T18:09:14.587584Z",
     "shell.execute_reply.started": "2021-05-22T18:09:14.579344Z"
    },
    "tags": []
   },
   "outputs": [],
   "source": [
    "s_pixels = sum(pixel_distribution.values())\n",
    "s_objects = sum(number_objects.values())\n",
    "\n",
    "normalised_pixels = {key:value/s_pixels for key, value in pixel_distribution.items()}\n",
    "normalised_objects = {key:value/s_objects for key, value in number_objects.items()}"
   ]
  },
  {
   "cell_type": "code",
   "execution_count": 17,
   "metadata": {
    "execution": {
     "iopub.execute_input": "2021-05-22T18:09:15.071605Z",
     "iopub.status.busy": "2021-05-22T18:09:15.071368Z",
     "iopub.status.idle": "2021-05-22T18:09:15.104071Z",
     "shell.execute_reply": "2021-05-22T18:09:15.086913Z",
     "shell.execute_reply.started": "2021-05-22T18:09:15.071578Z"
    },
    "tags": []
   },
   "outputs": [
    {
     "name": "stdout",
     "output_type": "stream",
     "text": [
      "c_algae_macro_or_leaves 5.18%\n",
      "c_fire_coral_millepora 0.09%\n",
      "c_hard_coral_boulder 20.45%\n",
      "c_hard_coral_branching 17.34%\n",
      "c_hard_coral_encrusting 5.79%\n",
      "c_hard_coral_foliose 0.94%\n",
      "c_hard_coral_mushroom 0.30%\n",
      "c_hard_coral_submassive 8.50%\n",
      "c_hard_coral_table 3.16%\n",
      "c_soft_coral 27.84%\n",
      "c_soft_coral_gorgonian 0.71%\n",
      "c_sponge 7.68%\n",
      "c_sponge_barrel 2.02%\n"
     ]
    }
   ],
   "source": [
    "for key, value in normalised_pixels.items():\n",
    "    print(f'{key} {100*value:.2f}%')"
   ]
  },
  {
   "cell_type": "code",
   "execution_count": 14,
   "metadata": {
    "collapsed": true,
    "execution": {
     "iopub.execute_input": "2021-05-22T17:54:49.695931Z",
     "iopub.status.busy": "2021-05-22T17:54:49.695659Z",
     "iopub.status.idle": "2021-05-22T17:54:49.708091Z",
     "shell.execute_reply": "2021-05-22T17:54:49.705133Z",
     "shell.execute_reply.started": "2021-05-22T17:54:49.695900Z"
    },
    "jupyter": {
     "outputs_hidden": true
    },
    "tags": []
   },
   "outputs": [
    {
     "name": "stdout",
     "output_type": "stream",
     "text": [
      "c_algae_macro_or_leaves 4.47%\n",
      "c_fire_coral_millepora 0.27%\n",
      "c_hard_coral_boulder 18.01%\n",
      "c_hard_coral_branching 14.25%\n",
      "c_hard_coral_encrusting 13.08%\n",
      "c_hard_coral_foliose 3.17%\n",
      "c_hard_coral_mushroom 3.76%\n",
      "c_hard_coral_submassive 5.95%\n",
      "c_hard_coral_table 2.68%\n",
      "c_soft_coral 13.45%\n",
      "c_soft_coral_gorgonian 1.85%\n",
      "c_sponge 14.18%\n",
      "c_sponge_barrel 4.88%\n"
     ]
    }
   ],
   "source": [
    "for key, value in normalised_objects.items():\n",
    "    print(f'{key} {100*value:.2f}%')"
   ]
  },
  {
   "cell_type": "markdown",
   "metadata": {},
   "source": [
    "## 2. Pixel distribution on test data"
   ]
  },
  {
   "cell_type": "code",
   "execution_count": 134,
   "metadata": {
    "execution": {
     "iopub.execute_input": "2021-05-23T16:14:06.379900Z",
     "iopub.status.busy": "2021-05-23T16:14:06.376375Z",
     "iopub.status.idle": "2021-05-23T16:14:06.578554Z",
     "shell.execute_reply": "2021-05-23T16:14:06.577714Z",
     "shell.execute_reply.started": "2021-05-23T16:14:06.379167Z"
    },
    "tags": []
   },
   "outputs": [],
   "source": [
    "gt_test = read_annotations_gt(file='../../yam/plugins/test_set_2021_05_11/test_set_2021_05_11_task_2.csv', task=2)"
   ]
  },
  {
   "cell_type": "code",
   "execution_count": 97,
   "metadata": {
    "execution": {
     "iopub.execute_input": "2021-05-23T15:12:53.214831Z",
     "iopub.status.busy": "2021-05-23T15:12:53.214511Z",
     "iopub.status.idle": "2021-05-23T15:13:06.400455Z",
     "shell.execute_reply": "2021-05-23T15:13:06.398736Z",
     "shell.execute_reply.started": "2021-05-23T15:12:53.214777Z"
    },
    "tags": []
   },
   "outputs": [
    {
     "name": "stderr",
     "output_type": "stream",
     "text": [
      "100%|██████████| 485/485 [00:13<00:00, 37.13it/s] \n"
     ]
    }
   ],
   "source": [
    "pixel_images = convert_pixel_images(gt_test)"
   ]
  },
  {
   "cell_type": "code",
   "execution_count": 98,
   "metadata": {
    "execution": {
     "iopub.execute_input": "2021-05-23T15:13:34.535807Z",
     "iopub.status.busy": "2021-05-23T15:13:34.535463Z",
     "iopub.status.idle": "2021-05-23T15:16:27.222186Z",
     "shell.execute_reply": "2021-05-23T15:16:27.218002Z",
     "shell.execute_reply.started": "2021-05-23T15:13:34.535764Z"
    },
    "tags": []
   },
   "outputs": [
    {
     "name": "stderr",
     "output_type": "stream",
     "text": [
      "100%|██████████| 485/485 [02:52<00:00,  2.81it/s]\n"
     ]
    }
   ],
   "source": [
    "pixel_distribution, number_objects = calculate_distribution(pixel_images)"
   ]
  },
  {
   "cell_type": "code",
   "execution_count": 99,
   "metadata": {
    "execution": {
     "iopub.execute_input": "2021-05-23T15:19:54.504391Z",
     "iopub.status.busy": "2021-05-23T15:19:54.503732Z",
     "iopub.status.idle": "2021-05-23T15:19:54.530769Z",
     "shell.execute_reply": "2021-05-23T15:19:54.522741Z",
     "shell.execute_reply.started": "2021-05-23T15:19:54.504346Z"
    },
    "tags": []
   },
   "outputs": [
    {
     "name": "stdout",
     "output_type": "stream",
     "text": [
      "0.775919872650282\n"
     ]
    }
   ],
   "source": [
    "print(pixel_distribution['background']/(len(pixel_images)*4032*3024))\n",
    "del pixel_distribution['background']"
   ]
  },
  {
   "cell_type": "code",
   "execution_count": 100,
   "metadata": {
    "execution": {
     "iopub.execute_input": "2021-05-23T15:19:55.424197Z",
     "iopub.status.busy": "2021-05-23T15:19:55.423892Z",
     "iopub.status.idle": "2021-05-23T15:19:55.439528Z",
     "shell.execute_reply": "2021-05-23T15:19:55.431337Z",
     "shell.execute_reply.started": "2021-05-23T15:19:55.424144Z"
    },
    "tags": []
   },
   "outputs": [],
   "source": [
    "s_pixels = sum(pixel_distribution.values())\n",
    "s_objects = sum(number_objects.values())\n",
    "\n",
    "normalised_pixels = {key:value/s_pixels for key, value in pixel_distribution.items()}\n",
    "normalised_objects = {key:value/s_objects for key, value in number_objects.items()}"
   ]
  },
  {
   "cell_type": "code",
   "execution_count": 101,
   "metadata": {
    "execution": {
     "iopub.execute_input": "2021-05-23T15:19:56.188748Z",
     "iopub.status.busy": "2021-05-23T15:19:56.188455Z",
     "iopub.status.idle": "2021-05-23T15:19:56.211295Z",
     "shell.execute_reply": "2021-05-23T15:19:56.209651Z",
     "shell.execute_reply.started": "2021-05-23T15:19:56.188714Z"
    },
    "tags": []
   },
   "outputs": [
    {
     "name": "stdout",
     "output_type": "stream",
     "text": [
      "c_algae_macro_or_leaves 12.28%\n",
      "c_fire_coral_millepora 0.03%\n",
      "c_hard_coral_boulder 10.83%\n",
      "c_hard_coral_branching 24.28%\n",
      "c_hard_coral_encrusting 4.30%\n",
      "c_hard_coral_foliose 0.03%\n",
      "c_hard_coral_mushroom 0.05%\n",
      "c_hard_coral_submassive 19.57%\n",
      "c_hard_coral_table 9.81%\n",
      "c_soft_coral 2.48%\n",
      "c_soft_coral_gorgonian 0.14%\n",
      "c_sponge 14.89%\n",
      "c_sponge_barrel 1.31%\n"
     ]
    }
   ],
   "source": [
    "for key, value in normalised_pixels.items():\n",
    "    print(f'{key} {100*value:.2f}%')"
   ]
  },
  {
   "cell_type": "code",
   "execution_count": 102,
   "metadata": {
    "execution": {
     "iopub.execute_input": "2021-05-23T15:19:56.899104Z",
     "iopub.status.busy": "2021-05-23T15:19:56.898850Z",
     "iopub.status.idle": "2021-05-23T15:19:56.914548Z",
     "shell.execute_reply": "2021-05-23T15:19:56.904879Z",
     "shell.execute_reply.started": "2021-05-23T15:19:56.899076Z"
    },
    "tags": []
   },
   "outputs": [
    {
     "name": "stdout",
     "output_type": "stream",
     "text": [
      "c_algae_macro_or_leaves 9.96%\n",
      "c_fire_coral_millepora 0.48%\n",
      "c_hard_coral_boulder 19.62%\n",
      "c_hard_coral_branching 11.84%\n",
      "c_hard_coral_encrusting 14.89%\n",
      "c_hard_coral_foliose 0.43%\n",
      "c_hard_coral_mushroom 1.30%\n",
      "c_hard_coral_submassive 10.05%\n",
      "c_hard_coral_table 7.01%\n",
      "c_soft_coral 4.30%\n",
      "c_soft_coral_gorgonian 0.58%\n",
      "c_sponge 14.21%\n",
      "c_sponge_barrel 5.32%\n"
     ]
    }
   ],
   "source": [
    "for key, value in normalised_objects.items():\n",
    "    print(f'{key} {100*value:.2f}%')"
   ]
  },
  {
   "cell_type": "markdown",
   "metadata": {
    "execution": {
     "iopub.execute_input": "2021-05-22T18:15:54.990631Z",
     "iopub.status.busy": "2021-05-22T18:15:54.990417Z",
     "iopub.status.idle": "2021-05-22T18:15:55.013134Z",
     "shell.execute_reply": "2021-05-22T18:15:55.002349Z",
     "shell.execute_reply.started": "2021-05-22T18:15:54.990607Z"
    }
   },
   "source": [
    "## 3. Per location (train)"
   ]
  },
  {
   "cell_type": "code",
   "execution_count": 86,
   "metadata": {
    "execution": {
     "iopub.execute_input": "2021-05-23T14:56:05.007242Z",
     "iopub.status.busy": "2021-05-23T14:56:05.005500Z",
     "iopub.status.idle": "2021-05-23T14:56:05.345756Z",
     "shell.execute_reply": "2021-05-23T14:56:05.344690Z",
     "shell.execute_reply.started": "2021-05-23T14:56:05.007183Z"
    },
    "tags": []
   },
   "outputs": [],
   "source": [
    "gt_train = read_annotations_gt(file='/Users/campea/Downloads/training_set_task_2.csv', task=2)"
   ]
  },
  {
   "cell_type": "code",
   "execution_count": 87,
   "metadata": {
    "execution": {
     "iopub.execute_input": "2021-05-23T14:56:10.478936Z",
     "iopub.status.busy": "2021-05-23T14:56:10.478671Z",
     "iopub.status.idle": "2021-05-23T14:56:10.494297Z",
     "shell.execute_reply": "2021-05-23T14:56:10.484801Z",
     "shell.execute_reply.started": "2021-05-23T14:56:10.478905Z"
    },
    "tags": []
   },
   "outputs": [],
   "source": [
    "train_images = set((name+'.jpg').lower() for name in gt_train.keys())"
   ]
  },
  {
   "cell_type": "code",
   "execution_count": 75,
   "metadata": {
    "execution": {
     "iopub.execute_input": "2021-05-23T14:49:13.970637Z",
     "iopub.status.busy": "2021-05-23T14:49:13.970414Z",
     "iopub.status.idle": "2021-05-23T14:49:32.261686Z",
     "shell.execute_reply": "2021-05-23T14:49:32.260268Z",
     "shell.execute_reply.started": "2021-05-23T14:49:13.970612Z"
    },
    "tags": []
   },
   "outputs": [],
   "source": [
    "r = requests.get('https://annotator.uk/dataset/1/images/export?reviewed=True')\n",
    "\n",
    "annotations = r.json()\n",
    "\n",
    "subset_1 = [image['original_file'].lower() for image in annotations['image_list'] if image['original_file'].startswith('2018_0712_') if image['reviewed']\n",
    "           and image['original_file'].lower() in train_images]"
   ]
  },
  {
   "cell_type": "code",
   "execution_count": 77,
   "metadata": {
    "execution": {
     "iopub.execute_input": "2021-05-23T14:52:32.392431Z",
     "iopub.status.busy": "2021-05-23T14:52:32.392222Z",
     "iopub.status.idle": "2021-05-23T14:52:32.474313Z",
     "shell.execute_reply": "2021-05-23T14:52:32.473249Z",
     "shell.execute_reply.started": "2021-05-23T14:52:32.392403Z"
    },
    "tags": []
   },
   "outputs": [],
   "source": [
    "df = pd.read_excel('../../yam/plugins/imageCLEFcoral datasets.xlsx',\n",
    "                   sheet_name='training set 2021 files',\n",
    "                   engine='openpyxl')\n",
    "\n",
    "images_in_subset_2 = set(df['PK-20180714-01'].apply(str.lower))\n",
    "\n",
    "subset_2 = [image['original_file'].lower() for image in annotations['image_list'] if image['original_file'].lower() in images_in_subset_2\n",
    "           and image['original_file'].lower() in train_images]\n",
    "    \n",
    "subset_3 = [image['original_file'].lower() for image in annotations['image_list'] if image['original_file'].startswith('2018_0729') and\n",
    "            'PK-20180729-02' in image['path_to_image'] and image['reviewed']\n",
    "            and image['original_file'].lower() in train_images]\n",
    "\n",
    "subset_4 = [image['original_file'] for image in annotations['image_list'] if image['folder'] == '20170803-dominica-cabrits'\n",
    "              and image['original_file'].lower() in train_images]\n",
    "\n",
    "subset_5 = [image['original_file'] for image in annotations['image_list'] if image['folder'] == '20180406-spermonde-keke'\n",
    "              and image['original_file'].lower() in train_images]\n",
    "\n",
    "subset_6 = [image['original_file'] for image in annotations['image_list'] if image['folder'] == '20190417-seychelles-BL'\n",
    "              and image['original_file'].lower() in train_images]"
   ]
  },
  {
   "cell_type": "code",
   "execution_count": 111,
   "metadata": {
    "execution": {
     "iopub.execute_input": "2021-05-23T15:58:18.719725Z",
     "iopub.status.busy": "2021-05-23T15:58:18.719533Z",
     "iopub.status.idle": "2021-05-23T15:58:18.738003Z",
     "shell.execute_reply": "2021-05-23T15:58:18.734574Z",
     "shell.execute_reply.started": "2021-05-23T15:58:18.719704Z"
    },
    "tags": []
   },
   "outputs": [],
   "source": [
    "subset_name_to_files = {\n",
    "    'K1-20180712-01': [x.lower() for x in subset_1],\n",
    "    'PK-20180714-01': [x.lower() for x in subset_2],\n",
    "    'PK-20180729-02': [x.lower() for x in subset_3],\n",
    "    '20170803-dominica-cabrits': [x.lower() for x in subset_4],\n",
    "    '20180406-spermonde-keke': [x.lower() for x in subset_5],\n",
    "    '20190417-seychelles-BL': [x.lower() for x in subset_6]\n",
    "}"
   ]
  },
  {
   "cell_type": "code",
   "execution_count": 104,
   "metadata": {
    "execution": {
     "iopub.execute_input": "2021-05-23T15:29:01.380681Z",
     "iopub.status.busy": "2021-05-23T15:29:01.380421Z",
     "iopub.status.idle": "2021-05-23T15:29:01.407828Z",
     "shell.execute_reply": "2021-05-23T15:29:01.405292Z",
     "shell.execute_reply.started": "2021-05-23T15:29:01.380621Z"
    }
   },
   "outputs": [
    {
     "data": {
      "text/plain": [
       "['K1-20180712-01',\n",
       " 'PK-20180714-01',\n",
       " 'PK-20180729-02',\n",
       " '20170803-dominica-cabrits',\n",
       " '20180406-spermonde-keke',\n",
       " '20190417-seychelles-BL']"
      ]
     },
     "execution_count": 104,
     "metadata": {},
     "output_type": "execute_result"
    }
   ],
   "source": [
    "list(subset_name_to_files.keys())"
   ]
  },
  {
   "cell_type": "code",
   "execution_count": 81,
   "metadata": {
    "execution": {
     "iopub.execute_input": "2021-05-23T14:53:24.500918Z",
     "iopub.status.busy": "2021-05-23T14:53:24.500712Z",
     "iopub.status.idle": "2021-05-23T14:53:24.519193Z",
     "shell.execute_reply": "2021-05-23T14:53:24.511994Z",
     "shell.execute_reply.started": "2021-05-23T14:53:24.500891Z"
    },
    "tags": []
   },
   "outputs": [
    {
     "name": "stdout",
     "output_type": "stream",
     "text": [
      "{'K1-20180712-01': 173, 'PK-20180714-01': 234, 'PK-20180729-02': 172, '20170803-dominica-cabrits': 100, '20180406-spermonde-keke': 100, '20190417-seychelles-BL': 100}\n"
     ]
    }
   ],
   "source": [
    "print({key: len(value) for key, value in subset_name_to_files.items()})"
   ]
  },
  {
   "cell_type": "code",
   "execution_count": 83,
   "metadata": {
    "execution": {
     "iopub.execute_input": "2021-05-23T14:53:52.991284Z",
     "iopub.status.busy": "2021-05-23T14:53:52.991080Z",
     "iopub.status.idle": "2021-05-23T14:53:53.011467Z",
     "shell.execute_reply": "2021-05-23T14:53:52.994986Z",
     "shell.execute_reply.started": "2021-05-23T14:53:52.991259Z"
    },
    "tags": []
   },
   "outputs": [],
   "source": [
    "training_set_2021 = subset_1 + subset_2 + subset_3 + subset_4 + subset_5 + subset_6"
   ]
  },
  {
   "cell_type": "code",
   "execution_count": 84,
   "metadata": {
    "execution": {
     "iopub.execute_input": "2021-05-23T14:53:56.010992Z",
     "iopub.status.busy": "2021-05-23T14:53:56.010753Z",
     "iopub.status.idle": "2021-05-23T14:53:56.033439Z",
     "shell.execute_reply": "2021-05-23T14:53:56.029884Z",
     "shell.execute_reply.started": "2021-05-23T14:53:56.010967Z"
    }
   },
   "outputs": [
    {
     "data": {
      "text/plain": [
       "879"
      ]
     },
     "execution_count": 84,
     "metadata": {},
     "output_type": "execute_result"
    }
   ],
   "source": [
    "len(training_set_2021)"
   ]
  },
  {
   "cell_type": "code",
   "execution_count": 122,
   "metadata": {
    "execution": {
     "iopub.execute_input": "2021-05-23T16:00:33.707553Z",
     "iopub.status.busy": "2021-05-23T16:00:33.706748Z",
     "iopub.status.idle": "2021-05-23T16:09:35.861977Z",
     "shell.execute_reply": "2021-05-23T16:09:35.856829Z",
     "shell.execute_reply.started": "2021-05-23T16:00:33.707506Z"
    },
    "tags": []
   },
   "outputs": [
    {
     "name": "stderr",
     "output_type": "stream",
     "text": [
      "100%|██████████| 173/173 [00:06<00:00, 28.38it/s]\n",
      "100%|██████████| 173/173 [01:26<00:00,  2.01it/s]\n",
      "100%|██████████| 234/234 [00:16<00:00, 14.49it/s]\n",
      "100%|██████████| 234/234 [02:19<00:00,  1.68it/s]\n",
      "100%|██████████| 172/172 [00:04<00:00, 39.23it/s]\n",
      "100%|██████████| 172/172 [02:17<00:00,  1.25it/s]\n",
      "100%|██████████| 100/100 [00:04<00:00, 21.11it/s]\n",
      "100%|██████████| 100/100 [01:20<00:00,  1.24it/s]\n",
      "100%|██████████| 100/100 [00:05<00:00, 18.69it/s]\n",
      "100%|██████████| 100/100 [00:30<00:00,  3.28it/s]\n",
      "100%|██████████| 100/100 [00:02<00:00, 48.66it/s]\n",
      "100%|██████████| 100/100 [00:25<00:00,  3.92it/s]\n"
     ]
    }
   ],
   "source": [
    "result_string = \"\"\n",
    "\n",
    "for name, images in subset_name_to_files.items():\n",
    "    gt_set = {name: value for name, value in gt_train.items() if (name+'.jpg').lower() in images}\n",
    "    \n",
    "    pixel_images = convert_pixel_images(gt_set)\n",
    "    pixel_distribution, number_objects = calculate_distribution(pixel_images)\n",
    "    \n",
    "    del pixel_distribution['background']\n",
    "    \n",
    "    s_pixels = sum(pixel_distribution.values())\n",
    "    s_objects = sum(number_objects.values())\n",
    "\n",
    "    normalised_pixels = {key:value/s_pixels for key, value in pixel_distribution.items()}\n",
    "    normalised_objects = {key:value/s_objects for key, value in number_objects.items()}\n",
    "    \n",
    "    result_string += f\"\\n\\n{name} ({len(gt_set)} images)\\n\\n\"\n",
    "    result_string += \"\\nPixel distribution###Number of objects distribution\\n\"\n",
    "    for (key_1, value_1), (key_2, value_2) in zip(normalised_pixels.items(), normalised_objects.items()):\n",
    "        result_string += f'{key_1}#{100*value_1:.2f}%##{key_2}#{100*value_2:.2f}%\\n'"
   ]
  },
  {
   "cell_type": "code",
   "execution_count": 123,
   "metadata": {
    "execution": {
     "iopub.execute_input": "2021-05-23T16:11:14.252445Z",
     "iopub.status.busy": "2021-05-23T16:11:14.250381Z",
     "iopub.status.idle": "2021-05-23T16:11:14.275515Z",
     "shell.execute_reply": "2021-05-23T16:11:14.274171Z",
     "shell.execute_reply.started": "2021-05-23T16:11:14.252381Z"
    },
    "tags": []
   },
   "outputs": [
    {
     "name": "stdout",
     "output_type": "stream",
     "text": [
      "\n",
      "\n",
      "K1-20180712-01 (173 images)\n",
      "\n",
      "\n",
      "Pixel distribution###Number of objects distribution\n",
      "c_algae_macro_or_leaves#1.51%##c_algae_macro_or_leaves#3.64%\n",
      "c_fire_coral_millepora#0.12%##c_fire_coral_millepora#0.22%\n",
      "c_hard_coral_boulder#5.64%##c_hard_coral_boulder#13.01%\n",
      "c_hard_coral_branching#10.03%##c_hard_coral_branching#10.36%\n",
      "c_hard_coral_encrusting#5.46%##c_hard_coral_encrusting#13.34%\n",
      "c_hard_coral_foliose#2.37%##c_hard_coral_foliose#6.95%\n",
      "c_hard_coral_mushroom#0.11%##c_hard_coral_mushroom#1.32%\n",
      "c_hard_coral_submassive#5.23%##c_hard_coral_submassive#5.95%\n",
      "c_hard_coral_table#0.64%##c_hard_coral_table#1.87%\n",
      "c_soft_coral#54.38%##c_soft_coral#19.07%\n",
      "c_soft_coral_gorgonian#3.06%##c_soft_coral_gorgonian#5.29%\n",
      "c_sponge#10.28%##c_sponge#15.44%\n",
      "c_sponge_barrel#1.18%##c_sponge_barrel#3.53%\n",
      "\n",
      "\n",
      "PK-20180714-01 (234 images)\n",
      "\n",
      "\n",
      "Pixel distribution###Number of objects distribution\n",
      "c_algae_macro_or_leaves#0.16%##c_algae_macro_or_leaves#1.95%\n",
      "c_fire_coral_millepora#0.16%##c_fire_coral_millepora#0.39%\n",
      "c_hard_coral_boulder#21.00%##c_hard_coral_boulder#15.53%\n",
      "c_hard_coral_branching#13.14%##c_hard_coral_branching#16.00%\n",
      "c_hard_coral_encrusting#4.53%##c_hard_coral_encrusting#12.41%\n",
      "c_hard_coral_foliose#0.31%##c_hard_coral_foliose#2.89%\n",
      "c_hard_coral_mushroom#0.75%##c_hard_coral_mushroom#6.95%\n",
      "c_hard_coral_submassive#0.83%##c_hard_coral_submassive#3.59%\n",
      "c_hard_coral_table#0.05%##c_hard_coral_table#0.39%\n",
      "c_soft_coral#50.90%##c_soft_coral#18.27%\n",
      "c_soft_coral_gorgonian#0.22%##c_soft_coral_gorgonian#1.41%\n",
      "c_sponge#5.95%##c_sponge#13.74%\n",
      "c_sponge_barrel#2.00%##c_sponge_barrel#6.48%\n",
      "\n",
      "\n",
      "PK-20180729-02 (172 images)\n",
      "\n",
      "\n",
      "Pixel distribution###Number of objects distribution\n",
      "c_algae_macro_or_leaves#0.11%##c_algae_macro_or_leaves#0.89%\n",
      "c_fire_coral_millepora#0.10%##c_fire_coral_millepora#0.13%\n",
      "c_hard_coral_boulder#25.75%##c_hard_coral_boulder#20.54%\n",
      "c_hard_coral_branching#11.21%##c_hard_coral_branching#15.43%\n",
      "c_hard_coral_encrusting#12.62%##c_hard_coral_encrusting#13.90%\n",
      "c_hard_coral_foliose#0.56%##c_hard_coral_foliose#2.04%\n",
      "c_hard_coral_mushroom#1.01%##c_hard_coral_mushroom#6.76%\n",
      "c_hard_coral_submassive#1.24%##c_hard_coral_submassive#3.83%\n",
      "c_hard_coral_table#0.01%##c_hard_coral_table#0.26%\n",
      "c_soft_coral#32.72%##c_soft_coral#17.86%\n",
      "c_soft_coral_gorgonian#0.62%##c_soft_coral_gorgonian#1.15%\n",
      "c_sponge#13.13%##c_sponge#15.31%\n",
      "c_sponge_barrel#0.93%##c_sponge_barrel#1.91%\n",
      "\n",
      "\n",
      "20170803-dominica-cabrits (100 images)\n",
      "\n",
      "\n",
      "Pixel distribution###Number of objects distribution\n",
      "c_algae_macro_or_leaves#46.69%##c_algae_macro_or_leaves#23.33%\n",
      "c_fire_coral_millepora#0.08%##c_fire_coral_millepora#0.71%\n",
      "c_hard_coral_boulder#4.88%##c_hard_coral_boulder#14.52%\n",
      "c_hard_coral_branching#0.00%##c_hard_coral_branching#0.00%\n",
      "c_hard_coral_encrusting#8.45%##c_hard_coral_encrusting#19.29%\n",
      "c_hard_coral_foliose#0.00%##c_hard_coral_foliose#0.00%\n",
      "c_hard_coral_mushroom#0.00%##c_hard_coral_mushroom#0.00%\n",
      "c_hard_coral_submassive#0.05%##c_hard_coral_submassive#1.90%\n",
      "c_hard_coral_table#0.00%##c_hard_coral_table#0.00%\n",
      "c_soft_coral#0.00%##c_soft_coral#0.00%\n",
      "c_soft_coral_gorgonian#0.00%##c_soft_coral_gorgonian#0.00%\n",
      "c_sponge#28.63%##c_sponge#23.57%\n",
      "c_sponge_barrel#11.22%##c_sponge_barrel#16.67%\n",
      "\n",
      "\n",
      "20180406-spermonde-keke (100 images)\n",
      "\n",
      "\n",
      "Pixel distribution###Number of objects distribution\n",
      "c_algae_macro_or_leaves#0.24%##c_algae_macro_or_leaves#3.47%\n",
      "c_fire_coral_millepora#0.00%##c_fire_coral_millepora#0.00%\n",
      "c_hard_coral_boulder#9.89%##c_hard_coral_boulder#19.08%\n",
      "c_hard_coral_branching#36.55%##c_hard_coral_branching#19.08%\n",
      "c_hard_coral_encrusting#7.79%##c_hard_coral_encrusting#12.33%\n",
      "c_hard_coral_foliose#0.37%##c_hard_coral_foliose#1.54%\n",
      "c_hard_coral_mushroom#0.00%##c_hard_coral_mushroom#0.00%\n",
      "c_hard_coral_submassive#30.98%##c_hard_coral_submassive#19.27%\n",
      "c_hard_coral_table#13.22%##c_hard_coral_table#16.57%\n",
      "c_soft_coral#0.07%##c_soft_coral#0.58%\n",
      "c_soft_coral_gorgonian#0.00%##c_soft_coral_gorgonian#0.00%\n",
      "c_sponge#0.89%##c_sponge#8.09%\n",
      "c_sponge_barrel#0.00%##c_sponge_barrel#0.00%\n",
      "\n",
      "\n",
      "20190417-seychelles-BL (100 images)\n",
      "\n",
      "\n",
      "Pixel distribution###Number of objects distribution\n",
      "c_algae_macro_or_leaves#0.15%##c_algae_macro_or_leaves#1.07%\n",
      "c_fire_coral_millepora#0.00%##c_fire_coral_millepora#0.00%\n",
      "c_hard_coral_boulder#75.95%##c_hard_coral_boulder#53.48%\n",
      "c_hard_coral_branching#20.98%##c_hard_coral_branching#34.76%\n",
      "c_hard_coral_encrusting#0.05%##c_hard_coral_encrusting#1.07%\n",
      "c_hard_coral_foliose#2.28%##c_hard_coral_foliose#3.21%\n",
      "c_hard_coral_mushroom#0.00%##c_hard_coral_mushroom#0.00%\n",
      "c_hard_coral_submassive#0.52%##c_hard_coral_submassive#3.21%\n",
      "c_hard_coral_table#0.00%##c_hard_coral_table#0.00%\n",
      "c_soft_coral#0.03%##c_soft_coral#0.53%\n",
      "c_soft_coral_gorgonian#0.02%##c_soft_coral_gorgonian#0.53%\n",
      "c_sponge#0.02%##c_sponge#2.14%\n",
      "c_sponge_barrel#0.00%##c_sponge_barrel#0.00%\n",
      "\n"
     ]
    }
   ],
   "source": [
    "print(result_string)"
   ]
  },
  {
   "cell_type": "markdown",
   "metadata": {
    "execution": {
     "iopub.execute_input": "2021-05-22T18:15:54.990631Z",
     "iopub.status.busy": "2021-05-22T18:15:54.990417Z",
     "iopub.status.idle": "2021-05-22T18:15:55.013134Z",
     "shell.execute_reply": "2021-05-22T18:15:55.002349Z",
     "shell.execute_reply.started": "2021-05-22T18:15:54.990607Z"
    }
   },
   "source": [
    "## 4. Per location (test)"
   ]
  },
  {
   "cell_type": "code",
   "execution_count": 124,
   "metadata": {
    "execution": {
     "iopub.execute_input": "2021-05-23T16:13:01.442517Z",
     "iopub.status.busy": "2021-05-23T16:13:01.442191Z",
     "iopub.status.idle": "2021-05-23T16:13:02.102919Z",
     "shell.execute_reply": "2021-05-23T16:13:02.101889Z",
     "shell.execute_reply.started": "2021-05-23T16:13:01.442479Z"
    },
    "tags": []
   },
   "outputs": [],
   "source": [
    "gt_test = read_annotations_gt(file='../../yam/plugins/test_set_2021_05_11/test_set_2021_05_11_task_2.csv', task=2)"
   ]
  },
  {
   "cell_type": "code",
   "execution_count": 125,
   "metadata": {
    "execution": {
     "iopub.execute_input": "2021-05-23T16:13:03.273583Z",
     "iopub.status.busy": "2021-05-23T16:13:03.273031Z",
     "iopub.status.idle": "2021-05-23T16:13:03.282780Z",
     "shell.execute_reply": "2021-05-23T16:13:03.280651Z",
     "shell.execute_reply.started": "2021-05-23T16:13:03.273546Z"
    },
    "tags": []
   },
   "outputs": [],
   "source": [
    "test_images = set((name+'.jpg').lower() for name in gt_test.keys())"
   ]
  },
  {
   "cell_type": "code",
   "execution_count": 127,
   "metadata": {
    "execution": {
     "iopub.execute_input": "2021-05-23T16:13:08.216285Z",
     "iopub.status.busy": "2021-05-23T16:13:08.215296Z",
     "iopub.status.idle": "2021-05-23T16:13:31.360731Z",
     "shell.execute_reply": "2021-05-23T16:13:31.359923Z",
     "shell.execute_reply.started": "2021-05-23T16:13:08.216232Z"
    },
    "tags": []
   },
   "outputs": [],
   "source": [
    "r = requests.get('https://annotator.uk/dataset/1/images/export?reviewed=True')\n",
    "\n",
    "annotations = r.json()\n",
    "\n",
    "subset_1 = [image['original_file'].lower() for image in annotations['image_list'] if image['original_file'].startswith('2018_0712_') if image['reviewed']\n",
    "           and image['original_file'].lower() in test_images]"
   ]
  },
  {
   "cell_type": "code",
   "execution_count": 143,
   "metadata": {
    "execution": {
     "iopub.execute_input": "2021-05-23T16:18:32.038064Z",
     "iopub.status.busy": "2021-05-23T16:18:32.037308Z",
     "iopub.status.idle": "2021-05-23T16:18:32.145434Z",
     "shell.execute_reply": "2021-05-23T16:18:32.144465Z",
     "shell.execute_reply.started": "2021-05-23T16:18:32.038025Z"
    },
    "tags": []
   },
   "outputs": [],
   "source": [
    "df = pd.read_excel('../../yam/plugins/imageCLEFcoral datasets.xlsx',\n",
    "                   sheet_name='training set 2021 files',\n",
    "                   engine='openpyxl')\n",
    "\n",
    "images_in_subset_2 = set(df['PK-20180714-01'].apply(str.lower))\n",
    "\n",
    "subset_2 = [image['original_file'].lower() for image in annotations['image_list'] if image['original_file'].lower() in images_in_subset_2\n",
    "           and image['original_file'].lower() in test_images]\n",
    "    \n",
    "subset_3 = [image['original_file'].lower() for image in annotations['image_list'] \n",
    "            if image['folder'].replace('_', '-') == 'PK-20180729-02'\n",
    "            and image['original_file'].lower() in test_images]\n",
    "\n",
    "subset_4 = [image['original_file'] for image in annotations['image_list'] if image['folder'] == '20170803-dominica-cabrits'\n",
    "              and image['original_file'].lower() in test_images]\n",
    "\n",
    "subset_5 = [image['original_file'] for image in annotations['image_list'] if image['folder'] == '20180406-spermonde-keke'\n",
    "              and image['original_file'].lower() in test_images]\n",
    "\n",
    "subset_6 = [image['original_file'] for image in annotations['image_list'] if image['folder'] == '20190417-seychelles-BL'\n",
    "              and image['original_file'].lower() in test_images]"
   ]
  },
  {
   "cell_type": "code",
   "execution_count": 144,
   "metadata": {
    "execution": {
     "iopub.execute_input": "2021-05-23T16:18:33.305609Z",
     "iopub.status.busy": "2021-05-23T16:18:33.305346Z",
     "iopub.status.idle": "2021-05-23T16:18:33.335398Z",
     "shell.execute_reply": "2021-05-23T16:18:33.313707Z",
     "shell.execute_reply.started": "2021-05-23T16:18:33.305579Z"
    },
    "tags": []
   },
   "outputs": [],
   "source": [
    "subset_name_to_files = {\n",
    "    'K1-20180712-01': [x.lower() for x in subset_1],\n",
    "    'PK-20180714-01': [x.lower() for x in subset_2],\n",
    "    'PK-20180729-02': [x.lower() for x in subset_3],\n",
    "    '20170803-dominica-cabrits': [x.lower() for x in subset_4],\n",
    "    '20180406-spermonde-keke': [x.lower() for x in subset_5],\n",
    "    '20190417-seychelles-BL': [x.lower() for x in subset_6]\n",
    "}"
   ]
  },
  {
   "cell_type": "code",
   "execution_count": 148,
   "metadata": {
    "execution": {
     "iopub.execute_input": "2021-05-23T16:18:45.723747Z",
     "iopub.status.busy": "2021-05-23T16:18:45.723433Z",
     "iopub.status.idle": "2021-05-23T16:18:45.729711Z",
     "shell.execute_reply": "2021-05-23T16:18:45.728777Z",
     "shell.execute_reply.started": "2021-05-23T16:18:45.723712Z"
    },
    "tags": []
   },
   "outputs": [
    {
     "name": "stdout",
     "output_type": "stream",
     "text": [
      "{'K1-20180712-01': 0, 'PK-20180714-01': 0, 'PK-20180729-02': 98, '20170803-dominica-cabrits': 201, '20180406-spermonde-keke': 166, '20190417-seychelles-BL': 20}\n"
     ]
    }
   ],
   "source": [
    "print({key: len(value) for key, value in subset_name_to_files.items()})"
   ]
  },
  {
   "cell_type": "code",
   "execution_count": 149,
   "metadata": {
    "execution": {
     "iopub.execute_input": "2021-05-23T16:18:46.016887Z",
     "iopub.status.busy": "2021-05-23T16:18:46.016535Z",
     "iopub.status.idle": "2021-05-23T16:18:46.034172Z",
     "shell.execute_reply": "2021-05-23T16:18:46.024691Z",
     "shell.execute_reply.started": "2021-05-23T16:18:46.016844Z"
    },
    "tags": []
   },
   "outputs": [],
   "source": [
    "test_set_2021 = subset_1 + subset_2 + subset_3 + subset_4 + subset_5 + subset_6"
   ]
  },
  {
   "cell_type": "code",
   "execution_count": 150,
   "metadata": {
    "execution": {
     "iopub.execute_input": "2021-05-23T16:18:46.455733Z",
     "iopub.status.busy": "2021-05-23T16:18:46.455300Z",
     "iopub.status.idle": "2021-05-23T16:18:46.468575Z",
     "shell.execute_reply": "2021-05-23T16:18:46.461209Z",
     "shell.execute_reply.started": "2021-05-23T16:18:46.455693Z"
    },
    "tags": []
   },
   "outputs": [
    {
     "data": {
      "text/plain": [
       "485"
      ]
     },
     "execution_count": 150,
     "metadata": {},
     "output_type": "execute_result"
    }
   ],
   "source": [
    "len(test_set_2021)"
   ]
  },
  {
   "cell_type": "code",
   "execution_count": 151,
   "metadata": {
    "execution": {
     "iopub.execute_input": "2021-05-23T16:19:09.808485Z",
     "iopub.status.busy": "2021-05-23T16:19:09.808001Z",
     "iopub.status.idle": "2021-05-23T16:22:32.681415Z",
     "shell.execute_reply": "2021-05-23T16:22:32.676454Z",
     "shell.execute_reply.started": "2021-05-23T16:19:09.808444Z"
    },
    "tags": []
   },
   "outputs": [
    {
     "name": "stderr",
     "output_type": "stream",
     "text": [
      "100%|██████████| 98/98 [00:02<00:00, 48.85it/s]\n",
      "100%|██████████| 98/98 [00:39<00:00,  2.45it/s]\n",
      "100%|██████████| 201/201 [00:06<00:00, 32.63it/s]\n",
      "100%|██████████| 201/201 [01:18<00:00,  2.55it/s]\n",
      "100%|██████████| 166/166 [00:06<00:00, 27.64it/s]\n",
      "100%|██████████| 166/166 [00:59<00:00,  2.78it/s]\n",
      "100%|██████████| 20/20 [00:00<00:00, 82.97it/s]\n",
      "100%|██████████| 20/20 [00:09<00:00,  2.01it/s]\n"
     ]
    }
   ],
   "source": [
    "result_string = \"\"\n",
    "\n",
    "for name, images in subset_name_to_files.items():\n",
    "    gt_set = {name: value for name, value in gt_test.items() if (name+'.jpg').lower() in images}\n",
    "    \n",
    "    if not gt_set:\n",
    "        continue\n",
    "        \n",
    "    pixel_images = convert_pixel_images(gt_set)\n",
    "    pixel_distribution, number_objects = calculate_distribution(pixel_images)\n",
    "    \n",
    "    del pixel_distribution['background']\n",
    "    \n",
    "    s_pixels = sum(pixel_distribution.values())\n",
    "    s_objects = sum(number_objects.values())\n",
    "\n",
    "    normalised_pixels = {key:value/s_pixels for key, value in pixel_distribution.items()}\n",
    "    normalised_objects = {key:value/s_objects for key, value in number_objects.items()}\n",
    "    \n",
    "    result_string += f\"\\n\\n{name} ({len(gt_set)} images)\\n\\n\"\n",
    "    result_string += \"\\nPixel distribution###Number of objects distribution\\n\"\n",
    "    for (key_1, value_1), (key_2, value_2) in zip(normalised_pixels.items(), normalised_objects.items()):\n",
    "        result_string += f'{key_1}#{100*value_1:.2f}%##{key_2}#{100*value_2:.2f}%\\n'"
   ]
  },
  {
   "cell_type": "code",
   "execution_count": 156,
   "metadata": {
    "execution": {
     "iopub.execute_input": "2021-05-23T16:24:52.566436Z",
     "iopub.status.busy": "2021-05-23T16:24:52.566049Z",
     "iopub.status.idle": "2021-05-23T16:24:52.604253Z",
     "shell.execute_reply": "2021-05-23T16:24:52.580349Z",
     "shell.execute_reply.started": "2021-05-23T16:24:52.566390Z"
    },
    "tags": []
   },
   "outputs": [
    {
     "name": "stdout",
     "output_type": "stream",
     "text": [
      "\n",
      "\n",
      "PK-20180729-02 (98 images)\n",
      "\n",
      "\n",
      "Pixel distribution###Number of objects distribution\n",
      "c_algae_macro_or_leaves#0.18%##c_algae_macro_or_leaves#0.82%\n",
      "c_fire_coral_millepora#0.35%##c_fire_coral_millepora#1.03%\n",
      "c_hard_coral_boulder#21.31%##c_hard_coral_boulder#18.52%\n",
      "c_hard_coral_branching#13.04%##c_hard_coral_branching#13.37%\n",
      "c_hard_coral_encrusting#10.30%##c_hard_coral_encrusting#13.99%\n",
      "c_hard_coral_foliose#0.31%##c_hard_coral_foliose#1.44%\n",
      "c_hard_coral_mushroom#0.84%##c_hard_coral_mushroom#5.56%\n",
      "c_hard_coral_submassive#1.67%##c_hard_coral_submassive#8.23%\n",
      "c_hard_coral_table#0.05%##c_hard_coral_table#0.21%\n",
      "c_soft_coral#37.90%##c_soft_coral#18.31%\n",
      "c_soft_coral_gorgonian#2.09%##c_soft_coral_gorgonian#2.47%\n",
      "c_sponge#11.74%##c_sponge#15.23%\n",
      "c_sponge_barrel#0.23%##c_sponge_barrel#0.82%\n",
      "\n",
      "\n",
      "20170803-dominica-cabrits (201 images)\n",
      "\n",
      "\n",
      "Pixel distribution###Number of objects distribution\n",
      "c_algae_macro_or_leaves#37.88%##c_algae_macro_or_leaves#24.47%\n",
      "c_fire_coral_millepora#0.04%##c_fire_coral_millepora#0.62%\n",
      "c_hard_coral_boulder#9.69%##c_hard_coral_boulder#17.73%\n",
      "c_hard_coral_branching#0.00%##c_hard_coral_branching#0.00%\n",
      "c_hard_coral_encrusting#5.16%##c_hard_coral_encrusting#18.48%\n",
      "c_hard_coral_foliose#0.00%##c_hard_coral_foliose#0.00%\n",
      "c_hard_coral_mushroom#0.00%##c_hard_coral_mushroom#0.00%\n",
      "c_hard_coral_submassive#0.01%##c_hard_coral_submassive#0.50%\n",
      "c_hard_coral_table#0.00%##c_hard_coral_table#0.00%\n",
      "c_soft_coral#0.00%##c_soft_coral#0.00%\n",
      "c_soft_coral_gorgonian#0.00%##c_soft_coral_gorgonian#0.00%\n",
      "c_sponge#43.24%##c_sponge#24.97%\n",
      "c_sponge_barrel#3.99%##c_sponge_barrel#13.23%\n",
      "\n",
      "\n",
      "20180406-spermonde-keke (166 images)\n",
      "\n",
      "\n",
      "Pixel distribution###Number of objects distribution\n",
      "c_algae_macro_or_leaves#0.02%##c_algae_macro_or_leaves#0.81%\n",
      "c_fire_coral_millepora#0.00%##c_fire_coral_millepora#0.00%\n",
      "c_hard_coral_boulder#8.98%##c_hard_coral_boulder#20.81%\n",
      "c_hard_coral_branching#38.24%##c_hard_coral_branching#21.74%\n",
      "c_hard_coral_encrusting#3.30%##c_hard_coral_encrusting#12.35%\n",
      "c_hard_coral_foliose#0.01%##c_hard_coral_foliose#0.27%\n",
      "c_hard_coral_mushroom#0.00%##c_hard_coral_mushroom#0.00%\n",
      "c_hard_coral_submassive#32.73%##c_hard_coral_submassive#22.01%\n",
      "c_hard_coral_table#16.50%##c_hard_coral_table#19.33%\n",
      "c_soft_coral#0.00%##c_soft_coral#0.00%\n",
      "c_soft_coral_gorgonian#0.00%##c_soft_coral_gorgonian#0.00%\n",
      "c_sponge#0.22%##c_sponge#2.68%\n",
      "c_sponge_barrel#0.00%##c_sponge_barrel#0.00%\n",
      "\n",
      "\n",
      "20190417-seychelles-BL (20 images)\n",
      "\n",
      "\n",
      "Pixel distribution###Number of objects distribution\n",
      "c_algae_macro_or_leaves#0.00%##c_algae_macro_or_leaves#0.00%\n",
      "c_fire_coral_millepora#0.00%##c_fire_coral_millepora#0.00%\n",
      "c_hard_coral_boulder#57.98%##c_hard_coral_boulder#51.35%\n",
      "c_hard_coral_branching#42.02%##c_hard_coral_branching#48.65%\n",
      "c_hard_coral_encrusting#0.00%##c_hard_coral_encrusting#0.00%\n",
      "c_hard_coral_foliose#0.00%##c_hard_coral_foliose#0.00%\n",
      "c_hard_coral_mushroom#0.00%##c_hard_coral_mushroom#0.00%\n",
      "c_hard_coral_submassive#0.00%##c_hard_coral_submassive#0.00%\n",
      "c_hard_coral_table#0.00%##c_hard_coral_table#0.00%\n",
      "c_soft_coral#0.00%##c_soft_coral#0.00%\n",
      "c_soft_coral_gorgonian#0.00%##c_soft_coral_gorgonian#0.00%\n",
      "c_sponge#0.00%##c_sponge#0.00%\n",
      "c_sponge_barrel#0.00%##c_sponge_barrel#0.00%\n",
      "\n"
     ]
    }
   ],
   "source": [
    "print(result_string)"
   ]
  },
  {
   "cell_type": "code",
   "execution_count": 159,
   "metadata": {
    "execution": {
     "iopub.execute_input": "2021-05-23T16:25:20.229341Z",
     "iopub.status.busy": "2021-05-23T16:25:20.229119Z",
     "iopub.status.idle": "2021-05-23T16:25:20.437495Z",
     "shell.execute_reply": "2021-05-23T16:25:20.435298Z",
     "shell.execute_reply.started": "2021-05-23T16:25:20.229301Z"
    },
    "tags": []
   },
   "outputs": [],
   "source": [
    "!echo '{result_string}' | pbcopy"
   ]
  },
  {
   "cell_type": "code",
   "execution_count": null,
   "metadata": {},
   "outputs": [],
   "source": []
  }
 ],
 "metadata": {
  "kernelspec": {
   "display_name": "Python 3",
   "language": "python",
   "name": "python3"
  },
  "language_info": {
   "codemirror_mode": {
    "name": "ipython",
    "version": 3
   },
   "file_extension": ".py",
   "mimetype": "text/x-python",
   "name": "python",
   "nbconvert_exporter": "python",
   "pygments_lexer": "ipython3",
   "version": "3.8.10"
  }
 },
 "nbformat": 4,
 "nbformat_minor": 4
}
