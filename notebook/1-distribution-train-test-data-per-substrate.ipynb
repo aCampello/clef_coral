{
 "cells": [
  {
   "cell_type": "code",
   "execution_count": 51,
   "metadata": {},
   "outputs": [],
   "source": [
    "from collections import defaultdict\n",
    "import sys\n",
    "\n",
    "sys.path.append('..')\n",
    "\n",
    "from tqdm import tqdm\n",
    "\n",
    "\n",
    "from pixel_accuracy import read_annotations_gt, convert_pixel_images, SUBSTRATE_LIST, SUBSTRATE_TO_IDX"
   ]
  },
  {
   "cell_type": "markdown",
   "metadata": {},
   "source": [
    "## 1. Pixel distribution for test data"
   ]
  },
  {
   "cell_type": "code",
   "execution_count": 52,
   "metadata": {},
   "outputs": [],
   "source": [
    "gt_test = read_annotations_gt(file='../data/imageCLEFcoral2020_GT.csv', task=2)"
   ]
  },
  {
   "cell_type": "code",
   "execution_count": 54,
   "metadata": {},
   "outputs": [],
   "source": [
    "pixel_images = convert_pixel_images(gt_test)"
   ]
  },
  {
   "cell_type": "code",
   "execution_count": 95,
   "metadata": {},
   "outputs": [],
   "source": [
    "def calculate_distribution(pixel_images):\n",
    "    pixel_distribution = defaultdict(int)\n",
    "    number_objects = defaultdict(int)\n",
    "\n",
    "    for image in pixel_images.values():\n",
    "        for name, idx in SUBSTRATE_TO_IDX.items():\n",
    "            pixels_substrate = (image == idx).sum()\n",
    "            pixel_distribution[name] += pixels_substrate\n",
    "            number_objects[name] += 1*(pixels_substrate>0)\n",
    "\n",
    "    return pixel_distribution, number_objects"
   ]
  },
  {
   "cell_type": "code",
   "execution_count": 98,
   "metadata": {},
   "outputs": [],
   "source": [
    "pixel_distribution, number_objects = calculate_distribution(pixel_images)"
   ]
  },
  {
   "cell_type": "code",
   "execution_count": 76,
   "metadata": {},
   "outputs": [
    {
     "data": {
      "text/plain": [
       "0.9999999999999999"
      ]
     },
     "execution_count": 76,
     "metadata": {},
     "output_type": "execute_result"
    }
   ],
   "source": [
    "sum(normalised_pixels.values())"
   ]
  },
  {
   "cell_type": "code",
   "execution_count": 67,
   "metadata": {},
   "outputs": [],
   "source": [
    "s_pixels = sum(pixel_distribution.values())\n",
    "s_objects = sum(number_objects.values())\n",
    "\n",
    "normalised_pixels = {key:value/s_pixels for key, value in pixel_distribution.items()}\n",
    "normalised_objects = {key:value/s_objects for key, value in number_objects.items()}"
   ]
  },
  {
   "cell_type": "code",
   "execution_count": 77,
   "metadata": {},
   "outputs": [
    {
     "name": "stdout",
     "output_type": "stream",
     "text": [
      "c_algae_macro_or_leaves 9.11%\n",
      "c_fire_coral_millepora 0.03%\n",
      "c_hard_coral_boulder 23.43%\n",
      "c_hard_coral_branching 23.05%\n",
      "c_hard_coral_encrusting 6.36%\n",
      "c_hard_coral_foliose 0.88%\n",
      "c_hard_coral_mushroom 0.05%\n",
      "c_hard_coral_submassive 13.81%\n",
      "c_hard_coral_table 5.76%\n",
      "c_soft_coral 7.54%\n",
      "c_soft_coral_gorgonian 0.15%\n",
      "c_sponge 7.58%\n",
      "c_sponge_barrel 2.25%\n"
     ]
    }
   ],
   "source": [
    "for key, value in normalised_pixels.items():\n",
    "    print(f'{key} {100*value:.2f}%')"
   ]
  },
  {
   "cell_type": "code",
   "execution_count": 78,
   "metadata": {},
   "outputs": [
    {
     "name": "stdout",
     "output_type": "stream",
     "text": [
      "c_algae_macro_or_leaves 7.82%\n",
      "c_fire_coral_millepora 0.24%\n",
      "c_hard_coral_boulder 20.11%\n",
      "c_hard_coral_branching 13.94%\n",
      "c_hard_coral_encrusting 13.63%\n",
      "c_hard_coral_foliose 2.14%\n",
      "c_hard_coral_mushroom 1.10%\n",
      "c_hard_coral_submassive 9.05%\n",
      "c_hard_coral_table 5.75%\n",
      "c_soft_coral 5.99%\n",
      "c_soft_coral_gorgonian 0.86%\n",
      "c_sponge 14.00%\n",
      "c_sponge_barrel 5.38%\n"
     ]
    }
   ],
   "source": [
    "for key, value in normalised_objects.items():\n",
    "    print(f'{key} {100*value:.2f}%')"
   ]
  },
  {
   "cell_type": "code",
   "execution_count": 70,
   "metadata": {},
   "outputs": [
    {
     "data": {
      "text/plain": [
       "{'c_algae_macro_or_leaves': 0.09114873245540482,\n",
       " 'c_fire_coral_millepora': 0.00025762446815614956,\n",
       " 'c_hard_coral_boulder': 0.23433030340784344,\n",
       " 'c_hard_coral_branching': 0.23048213689545982,\n",
       " 'c_hard_coral_encrusting': 0.06362916855851956,\n",
       " 'c_hard_coral_foliose': 0.008774037911251668,\n",
       " 'c_hard_coral_mushroom': 0.000491083978316805,\n",
       " 'c_hard_coral_submassive': 0.1380776839869675,\n",
       " 'c_hard_coral_table': 0.057639844626027996,\n",
       " 'c_soft_coral': 0.07540142197869636,\n",
       " 'c_soft_coral_gorgonian': 0.0015435409223701379,\n",
       " 'c_sponge': 0.07575550495480479,\n",
       " 'c_sponge_barrel': 0.02246891585618096}"
      ]
     },
     "execution_count": 70,
     "metadata": {},
     "output_type": "execute_result"
    }
   ],
   "source": [
    "normalised_pixels"
   ]
  },
  {
   "cell_type": "markdown",
   "metadata": {},
   "source": [
    "### 2. Pixel distribution per location"
   ]
  },
  {
   "cell_type": "code",
   "execution_count": 96,
   "metadata": {},
   "outputs": [
    {
     "name": "stdout",
     "output_type": "stream",
     "text": [
      "imageCLEFcoral2020_GT_geographicallyDistinct\n",
      "\n",
      "Pixel\n",
      "c_algae_macro_or_leaves 47.21%\n",
      "c_fire_coral_millepora 0.08%\n",
      "c_hard_coral_boulder 4.94%\n",
      "c_hard_coral_branching 0.00%\n",
      "c_hard_coral_encrusting 8.43%\n",
      "c_hard_coral_foliose 0.00%\n",
      "c_hard_coral_mushroom 0.00%\n",
      "c_hard_coral_submassive 0.05%\n",
      "c_hard_coral_table 0.00%\n",
      "c_soft_coral 0.00%\n",
      "c_soft_coral_gorgonian 0.00%\n",
      "c_sponge 28.34%\n",
      "c_sponge_barrel 10.95%\n",
      "\n",
      "Objects\n",
      "c_algae_macro_or_leaves 23.33%\n",
      "c_fire_coral_millepora 0.71%\n",
      "c_hard_coral_boulder 14.52%\n",
      "c_hard_coral_branching 0.00%\n",
      "c_hard_coral_encrusting 19.29%\n",
      "c_hard_coral_foliose 0.00%\n",
      "c_hard_coral_mushroom 0.00%\n",
      "c_hard_coral_submassive 1.90%\n",
      "c_hard_coral_table 0.00%\n",
      "c_soft_coral 0.00%\n",
      "c_soft_coral_gorgonian 0.00%\n",
      "c_sponge 23.57%\n",
      "c_sponge_barrel 16.67%\n",
      "imageCLEFcoral2020_GT_geographicallySimilar\n",
      "\n",
      "Pixel\n",
      "c_algae_macro_or_leaves 0.15%\n",
      "c_fire_coral_millepora 0.00%\n",
      "c_hard_coral_boulder 75.95%\n",
      "c_hard_coral_branching 20.98%\n",
      "c_hard_coral_encrusting 0.05%\n",
      "c_hard_coral_foliose 2.28%\n",
      "c_hard_coral_mushroom 0.00%\n",
      "c_hard_coral_submassive 0.52%\n",
      "c_hard_coral_table 0.00%\n",
      "c_soft_coral 0.03%\n",
      "c_soft_coral_gorgonian 0.02%\n",
      "c_sponge 0.02%\n",
      "c_sponge_barrel 0.00%\n",
      "\n",
      "Objects\n",
      "c_algae_macro_or_leaves 1.07%\n",
      "c_fire_coral_millepora 0.00%\n",
      "c_hard_coral_boulder 53.48%\n",
      "c_hard_coral_branching 34.76%\n",
      "c_hard_coral_encrusting 1.07%\n",
      "c_hard_coral_foliose 3.21%\n",
      "c_hard_coral_mushroom 0.00%\n",
      "c_hard_coral_submassive 3.21%\n",
      "c_hard_coral_table 0.00%\n",
      "c_soft_coral 0.53%\n",
      "c_soft_coral_gorgonian 0.53%\n",
      "c_sponge 2.14%\n",
      "c_sponge_barrel 0.00%\n",
      "imageCLEFcoral2020_GT_sameLocation\n",
      "\n",
      "Pixel\n",
      "c_algae_macro_or_leaves 0.43%\n",
      "c_fire_coral_millepora 0.07%\n",
      "c_hard_coral_boulder 10.22%\n",
      "c_hard_coral_branching 17.31%\n",
      "c_hard_coral_encrusting 8.65%\n",
      "c_hard_coral_foliose 1.37%\n",
      "c_hard_coral_mushroom 0.30%\n",
      "c_hard_coral_submassive 2.59%\n",
      "c_hard_coral_table 0.64%\n",
      "c_soft_coral 46.23%\n",
      "c_soft_coral_gorgonian 0.92%\n",
      "c_sponge 10.62%\n",
      "c_sponge_barrel 0.65%\n",
      "\n",
      "Objects\n",
      "c_algae_macro_or_leaves 1.96%\n",
      "c_fire_coral_millepora 0.20%\n",
      "c_hard_coral_boulder 13.53%\n",
      "c_hard_coral_branching 12.55%\n",
      "c_hard_coral_encrusting 14.90%\n",
      "c_hard_coral_foliose 4.12%\n",
      "c_hard_coral_mushroom 3.53%\n",
      "c_hard_coral_submassive 6.67%\n",
      "c_hard_coral_table 1.57%\n",
      "c_soft_coral 18.43%\n",
      "c_soft_coral_gorgonian 2.55%\n",
      "c_sponge 16.47%\n",
      "c_sponge_barrel 3.53%\n",
      "imageCLEFcoral2020_GT_similarLocation\n",
      "\n",
      "Pixel\n",
      "c_algae_macro_or_leaves 0.24%\n",
      "c_fire_coral_millepora 0.00%\n",
      "c_hard_coral_boulder 9.89%\n",
      "c_hard_coral_branching 36.55%\n",
      "c_hard_coral_encrusting 7.79%\n",
      "c_hard_coral_foliose 0.37%\n",
      "c_hard_coral_mushroom 0.00%\n",
      "c_hard_coral_submassive 30.98%\n",
      "c_hard_coral_table 13.22%\n",
      "c_soft_coral 0.07%\n",
      "c_soft_coral_gorgonian 0.00%\n",
      "c_sponge 0.89%\n",
      "c_sponge_barrel 0.00%\n",
      "\n",
      "Objects\n",
      "c_algae_macro_or_leaves 3.47%\n",
      "c_fire_coral_millepora 0.00%\n",
      "c_hard_coral_boulder 19.08%\n",
      "c_hard_coral_branching 19.08%\n",
      "c_hard_coral_encrusting 12.33%\n",
      "c_hard_coral_foliose 1.54%\n",
      "c_hard_coral_mushroom 0.00%\n",
      "c_hard_coral_submassive 19.27%\n",
      "c_hard_coral_table 16.57%\n",
      "c_soft_coral 0.58%\n",
      "c_soft_coral_gorgonian 0.00%\n",
      "c_sponge 8.09%\n",
      "c_sponge_barrel 0.00%\n"
     ]
    }
   ],
   "source": [
    "list_of_files = [\n",
    "    '../data/imageCLEFcoral2020_GT_geographicallyDistinct.csv',\n",
    "    '../data/imageCLEFcoral2020_GT_geographicallySimilar.csv',\n",
    "    '../data/imageCLEFcoral2020_GT_sameLocation.csv',\n",
    "    '../data/imageCLEFcoral2020_GT_similarLocation.csv'\n",
    "]\n",
    "for file in list_of_files:\n",
    "    print(file.split('/')[-1][:-4])\n",
    "    gt_test = read_annotations_gt(file=file, task=2)\n",
    "    pixel_images = convert_pixel_images(gt_test)\n",
    "    pixel_distribution, number_objects = calculate_distribution(pixel_images)\n",
    "    \n",
    "    s_pixels = sum(pixel_distribution.values())\n",
    "    s_objects = sum(number_objects.values())\n",
    "\n",
    "    normalised_pixels = {key:value/s_pixels for key, value in pixel_distribution.items()}\n",
    "    normalised_objects = {key:value/s_objects for key, value in number_objects.items()}\n",
    "    \n",
    "    print('\\nPixel distribution')\n",
    "    for key, value in normalised_pixels.items():\n",
    "        print(f'{key} {100*value:.2f}%')\n",
    "    print('\\nNumber of objects distribution')\n",
    "    for key, value in normalised_objects.items():\n",
    "        print(f'{key} {100*value:.2f}%')"
   ]
  },
  {
   "cell_type": "markdown",
   "metadata": {},
   "source": [
    "## 3. Pixel distribution for train data"
   ]
  },
  {
   "cell_type": "code",
   "execution_count": 107,
   "metadata": {},
   "outputs": [],
   "source": [
    "gt_test = read_annotations_gt(file='../data/annotations_train_task_2.csv', task=2)"
   ]
  },
  {
   "cell_type": "code",
   "execution_count": 108,
   "metadata": {},
   "outputs": [],
   "source": [
    "pixel_images = convert_pixel_images(gt_test)"
   ]
  },
  {
   "cell_type": "code",
   "execution_count": 109,
   "metadata": {},
   "outputs": [],
   "source": [
    "pixel_distribution, number_objects = calculate_distribution(pixel_images)"
   ]
  },
  {
   "cell_type": "code",
   "execution_count": 110,
   "metadata": {},
   "outputs": [
    {
     "name": "stdout",
     "output_type": "stream",
     "text": [
      "\n",
      "Pixel distribution\n",
      "c_algae_macro_or_leaves 0.71%\n",
      "c_fire_coral_millepora 0.16%\n",
      "c_hard_coral_boulder 16.94%\n",
      "c_hard_coral_branching 11.22%\n",
      "c_hard_coral_encrusting 4.77%\n",
      "c_hard_coral_foliose 1.05%\n",
      "c_hard_coral_mushroom 0.58%\n",
      "c_hard_coral_submassive 2.34%\n",
      "c_hard_coral_table 0.19%\n",
      "c_soft_coral 50.54%\n",
      "c_soft_coral_gorgonian 1.50%\n",
      "c_sponge 8.27%\n",
      "c_sponge_barrel 1.72%\n",
      "\n",
      "Number of objects distribution\n",
      "c_algae_macro_or_leaves 2.22%\n",
      "c_fire_coral_millepora 0.35%\n",
      "c_hard_coral_boulder 16.59%\n",
      "c_hard_coral_branching 14.54%\n",
      "c_hard_coral_encrusting 12.58%\n",
      "c_hard_coral_foliose 4.14%\n",
      "c_hard_coral_mushroom 5.49%\n",
      "c_hard_coral_submassive 3.70%\n",
      "c_hard_coral_table 0.74%\n",
      "c_soft_coral 18.11%\n",
      "c_soft_coral_gorgonian 2.83%\n",
      "c_sponge 14.32%\n",
      "c_sponge_barrel 4.40%\n"
     ]
    }
   ],
   "source": [
    "s_pixels = sum(pixel_distribution.values())\n",
    "s_objects = sum(number_objects.values())\n",
    "\n",
    "normalised_pixels = {key:value/s_pixels for key, value in pixel_distribution.items()}\n",
    "normalised_objects = {key:value/s_objects for key, value in number_objects.items()}\n",
    "\n",
    "print('\\nPixel distribution')\n",
    "for key, value in normalised_pixels.items():\n",
    "    print(f'{key} {100*value:.2f}%')\n",
    "print('\\nNumber of objects distribution')\n",
    "for key, value in normalised_objects.items():\n",
    "    print(f'{key} {100*value:.2f}%')"
   ]
  }
 ],
 "metadata": {
  "kernelspec": {
   "display_name": "Python 3",
   "language": "python",
   "name": "python3"
  },
  "language_info": {
   "codemirror_mode": {
    "name": "ipython",
    "version": 3
   },
   "file_extension": ".py",
   "mimetype": "text/x-python",
   "name": "python",
   "nbconvert_exporter": "python",
   "pygments_lexer": "ipython3",
   "version": "3.8.3"
  }
 },
 "nbformat": 4,
 "nbformat_minor": 4
}
