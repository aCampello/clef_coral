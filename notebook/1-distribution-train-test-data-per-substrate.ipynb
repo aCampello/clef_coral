{
 "cells": [
  {
   "cell_type": "code",
   "execution_count": 1,
   "metadata": {
    "execution": {
     "iopub.execute_input": "2021-05-22T17:36:20.559523Z",
     "iopub.status.busy": "2021-05-22T17:36:20.559222Z",
     "iopub.status.idle": "2021-05-22T17:36:20.953996Z",
     "shell.execute_reply": "2021-05-22T17:36:20.949600Z",
     "shell.execute_reply.started": "2021-05-22T17:36:20.559439Z"
    },
    "tags": []
   },
   "outputs": [
    {
     "ename": "ModuleNotFoundError",
     "evalue": "No module named 'cv2'",
     "output_type": "error",
     "traceback": [
      "\u001b[0;31m---------------------------------------------------------------------------\u001b[0m",
      "\u001b[0;31mModuleNotFoundError\u001b[0m                       Traceback (most recent call last)",
      "\u001b[0;32m<ipython-input-1-05ce8489b93a>\u001b[0m in \u001b[0;36m<module>\u001b[0;34m\u001b[0m\n\u001b[1;32m      6\u001b[0m \u001b[0;32mfrom\u001b[0m \u001b[0mtqdm\u001b[0m \u001b[0;32mimport\u001b[0m \u001b[0mtqdm\u001b[0m\u001b[0;34m\u001b[0m\u001b[0;34m\u001b[0m\u001b[0m\n\u001b[1;32m      7\u001b[0m \u001b[0;34m\u001b[0m\u001b[0m\n\u001b[0;32m----> 8\u001b[0;31m \u001b[0;32mfrom\u001b[0m \u001b[0mpixel_accuracy\u001b[0m \u001b[0;32mimport\u001b[0m \u001b[0mread_annotations_gt\u001b[0m\u001b[0;34m,\u001b[0m \u001b[0mconvert_pixel_images\u001b[0m\u001b[0;34m,\u001b[0m \u001b[0mSUBSTRATE_LIST\u001b[0m\u001b[0;34m,\u001b[0m \u001b[0mSUBSTRATE_TO_IDX\u001b[0m\u001b[0;34m\u001b[0m\u001b[0;34m\u001b[0m\u001b[0m\n\u001b[0m",
      "\u001b[0;32m~/academic/clef_coral/notebook/../pixel_accuracy.py\u001b[0m in \u001b[0;36m<module>\u001b[0;34m\u001b[0m\n\u001b[1;32m      2\u001b[0m \u001b[0;32mfrom\u001b[0m \u001b[0mcollections\u001b[0m \u001b[0;32mimport\u001b[0m \u001b[0mdefaultdict\u001b[0m\u001b[0;34m\u001b[0m\u001b[0;34m\u001b[0m\u001b[0m\n\u001b[1;32m      3\u001b[0m \u001b[0;34m\u001b[0m\u001b[0m\n\u001b[0;32m----> 4\u001b[0;31m \u001b[0;32mimport\u001b[0m \u001b[0mcv2\u001b[0m\u001b[0;34m\u001b[0m\u001b[0;34m\u001b[0m\u001b[0m\n\u001b[0m\u001b[1;32m      5\u001b[0m \u001b[0;32mimport\u001b[0m \u001b[0mnumpy\u001b[0m \u001b[0;32mas\u001b[0m \u001b[0mnp\u001b[0m\u001b[0;34m\u001b[0m\u001b[0;34m\u001b[0m\u001b[0m\n\u001b[1;32m      6\u001b[0m \u001b[0;34m\u001b[0m\u001b[0m\n",
      "\u001b[0;31mModuleNotFoundError\u001b[0m: No module named 'cv2'"
     ]
    }
   ],
   "source": [
    "from collections import defaultdict\n",
    "import sys\n",
    "\n",
    "sys.path.append('..')\n",
    "\n",
    "from tqdm import tqdm\n",
    "\n",
    "from pixel_accuracy import read_annotations_gt, convert_pixel_images, SUBSTRATE_LIST, SUBSTRATE_TO_IDX"
   ]
  },
  {
   "cell_type": "code",
   "execution_count": 3,
   "metadata": {
    "execution": {
     "iopub.execute_input": "2021-05-22T17:36:43.272203Z",
     "iopub.status.busy": "2021-05-22T17:36:43.271865Z",
     "iopub.status.idle": "2021-05-22T17:36:59.888370Z",
     "shell.execute_reply": "2021-05-22T17:36:59.887029Z",
     "shell.execute_reply.started": "2021-05-22T17:36:43.272161Z"
    },
    "tags": []
   },
   "outputs": [
    {
     "name": "stdout",
     "output_type": "stream",
     "text": [
      "Collecting opencv-python\n",
      "  Downloading opencv_python-4.5.1.48-cp38-cp38-macosx_10_13_x86_64.whl (40.3 MB)\n",
      "\u001b[K     |████████████████████████████████| 40.3 MB 1.9 MB/s eta 0:00:01     |████████████████▉               | 21.1 MB 142 kB/s eta 0:02:15     |██████████████████▊             | 23.5 MB 6.4 MB/s eta 0:00:03     |███████████████████             | 23.9 MB 6.4 MB/s eta 0:00:03     |████████████████████████▋       | 31.0 MB 386 kB/s eta 0:00:25     |█████████████████████████▋      | 32.2 MB 386 kB/s eta 0:00:21     |█████████████████████████▊      | 32.4 MB 386 kB/s eta 0:00:21     |█████████████████████████████   | 36.5 MB 386 kB/s eta 0:00:10     |█████████████████████████████▎  | 36.8 MB 386 kB/s eta 0:00:09     |█████████████████████████████▋  | 37.2 MB 1.9 MB/s eta 0:00:02\n",
      "\u001b[?25hRequirement already satisfied: numpy>=1.17.3 in /Users/campea/python3.8/lib/python3.8/site-packages (from opencv-python) (1.20.3)\n",
      "Installing collected packages: opencv-python\n",
      "Successfully installed opencv-python-4.5.1.48\n",
      "\u001b[33mWARNING: You are using pip version 21.0.1; however, version 21.1.1 is available.\n",
      "You should consider upgrading via the '/Users/campea/python3.8/bin/python -m pip install --upgrade pip' command.\u001b[0m\n"
     ]
    }
   ],
   "source": [
    "!pip install opencv-python"
   ]
  },
  {
   "cell_type": "markdown",
   "metadata": {},
   "source": [
    "## 1. Pixel distribution for test data"
   ]
  },
  {
   "cell_type": "code",
   "execution_count": 2,
   "metadata": {
    "execution": {
     "iopub.execute_input": "2021-05-14T16:19:20.221156Z",
     "iopub.status.busy": "2021-05-14T16:19:20.220489Z",
     "iopub.status.idle": "2021-05-14T16:19:20.752390Z",
     "shell.execute_reply": "2021-05-14T16:19:20.751047Z",
     "shell.execute_reply.started": "2021-05-14T16:19:20.221095Z"
    }
   },
   "outputs": [],
   "source": [
    "gt_test = read_annotations_gt(file='../../yam/plugins/training_set_2021_02_04/training_set_task_2_2021_02_04.csv', task=2)"
   ]
  },
  {
   "cell_type": "code",
   "execution_count": 3,
   "metadata": {
    "execution": {
     "iopub.execute_input": "2021-05-14T16:19:21.326242Z",
     "iopub.status.busy": "2021-05-14T16:19:21.325798Z",
     "iopub.status.idle": "2021-05-14T16:19:42.182309Z",
     "shell.execute_reply": "2021-05-14T16:19:42.174952Z",
     "shell.execute_reply.started": "2021-05-14T16:19:21.326200Z"
    }
   },
   "outputs": [
    {
     "name": "stderr",
     "output_type": "stream",
     "text": [
      "100%|██████████| 879/879 [00:20<00:00, 42.28it/s]\n"
     ]
    }
   ],
   "source": [
    "pixel_images = convert_pixel_images(gt_test)"
   ]
  },
  {
   "cell_type": "code",
   "execution_count": 4,
   "metadata": {
    "execution": {
     "iopub.execute_input": "2021-05-14T16:19:42.192324Z",
     "iopub.status.busy": "2021-05-14T16:19:42.191765Z",
     "iopub.status.idle": "2021-05-14T16:19:42.257254Z",
     "shell.execute_reply": "2021-05-14T16:19:42.255564Z",
     "shell.execute_reply.started": "2021-05-14T16:19:42.192265Z"
    }
   },
   "outputs": [
    {
     "data": {
      "text/plain": [
       "(4032, 3024)"
      ]
     },
     "execution_count": 4,
     "metadata": {},
     "output_type": "execute_result"
    }
   ],
   "source": [
    "pixel_images['2018_0714_112608_061'].shape"
   ]
  },
  {
   "cell_type": "code",
   "execution_count": 5,
   "metadata": {
    "execution": {
     "iopub.execute_input": "2021-05-14T16:19:45.732354Z",
     "iopub.status.busy": "2021-05-14T16:19:45.731741Z",
     "iopub.status.idle": "2021-05-14T16:19:45.752941Z",
     "shell.execute_reply": "2021-05-14T16:19:45.751362Z",
     "shell.execute_reply.started": "2021-05-14T16:19:45.732304Z"
    }
   },
   "outputs": [],
   "source": [
    "def calculate_distribution(pixel_images):\n",
    "    pixel_distribution = defaultdict(int)\n",
    "    number_objects = defaultdict(int)\n",
    "\n",
    "    for image in tqdm(pixel_images.values()):\n",
    "        non_background = 0\n",
    "        for name, idx in SUBSTRATE_TO_IDX.items():\n",
    "            pixels_substrate = (image == idx).sum()\n",
    "            pixel_distribution[name] += pixels_substrate\n",
    "            non_background += pixels_substrate\n",
    "            number_objects[name] += 1*(pixels_substrate>0)\n",
    "        pixel_distribution['background'] += (4032*3024-non_background)\n",
    "        \n",
    "    return pixel_distribution, number_objects"
   ]
  },
  {
   "cell_type": "code",
   "execution_count": 6,
   "metadata": {
    "execution": {
     "iopub.execute_input": "2021-05-14T16:19:46.581717Z",
     "iopub.status.busy": "2021-05-14T16:19:46.581283Z",
     "iopub.status.idle": "2021-05-14T16:25:30.929556Z",
     "shell.execute_reply": "2021-05-14T16:25:30.923973Z",
     "shell.execute_reply.started": "2021-05-14T16:19:46.581663Z"
    }
   },
   "outputs": [
    {
     "name": "stderr",
     "output_type": "stream",
     "text": [
      "100%|██████████| 879/879 [05:44<00:00,  2.55it/s]\n"
     ]
    }
   ],
   "source": [
    "pixel_distribution, number_objects = calculate_distribution(pixel_images)"
   ]
  },
  {
   "cell_type": "code",
   "execution_count": 8,
   "metadata": {
    "execution": {
     "iopub.execute_input": "2021-05-14T16:52:59.794317Z",
     "iopub.status.busy": "2021-05-14T16:52:59.793582Z",
     "iopub.status.idle": "2021-05-14T16:52:59.809217Z",
     "shell.execute_reply": "2021-05-14T16:52:59.807833Z",
     "shell.execute_reply.started": "2021-05-14T16:52:59.794262Z"
    }
   },
   "outputs": [],
   "source": [
    "s_pixels = sum(pixel_distribution.values())\n",
    "s_objects = sum(number_objects.values())\n",
    "\n",
    "normalised_pixels = {key:value/s_pixels for key, value in pixel_distribution.items()}\n",
    "normalised_objects = {key:value/s_objects for key, value in number_objects.items()}"
   ]
  },
  {
   "cell_type": "code",
   "execution_count": 9,
   "metadata": {
    "execution": {
     "iopub.execute_input": "2021-05-14T16:53:00.663092Z",
     "iopub.status.busy": "2021-05-14T16:53:00.661006Z",
     "iopub.status.idle": "2021-05-14T16:53:00.685857Z",
     "shell.execute_reply": "2021-05-14T16:53:00.678567Z",
     "shell.execute_reply.started": "2021-05-14T16:53:00.663032Z"
    }
   },
   "outputs": [
    {
     "name": "stdout",
     "output_type": "stream",
     "text": [
      "c_algae_macro_or_leaves 1.04%\n",
      "c_fire_coral_millepora 0.02%\n",
      "c_hard_coral_boulder 4.12%\n",
      "c_hard_coral_branching 3.49%\n",
      "c_hard_coral_encrusting 1.17%\n",
      "c_hard_coral_foliose 0.19%\n",
      "c_hard_coral_mushroom 0.06%\n",
      "c_hard_coral_submassive 1.71%\n",
      "c_hard_coral_table 0.64%\n",
      "c_soft_coral 5.61%\n",
      "c_soft_coral_gorgonian 0.14%\n",
      "c_sponge 1.55%\n",
      "c_sponge_barrel 0.41%\n",
      "background 79.86%\n"
     ]
    }
   ],
   "source": [
    "for key, value in normalised_pixels.items():\n",
    "    print(f'{key} {100*value:.2f}%')"
   ]
  },
  {
   "cell_type": "code",
   "execution_count": 10,
   "metadata": {
    "execution": {
     "iopub.execute_input": "2021-05-14T16:53:01.363334Z",
     "iopub.status.busy": "2021-05-14T16:53:01.362361Z",
     "iopub.status.idle": "2021-05-14T16:53:01.384395Z",
     "shell.execute_reply": "2021-05-14T16:53:01.382783Z",
     "shell.execute_reply.started": "2021-05-14T16:53:01.363267Z"
    }
   },
   "outputs": [
    {
     "name": "stdout",
     "output_type": "stream",
     "text": [
      "c_algae_macro_or_leaves 4.46%\n",
      "c_fire_coral_millepora 0.27%\n",
      "c_hard_coral_boulder 18.02%\n",
      "c_hard_coral_branching 14.24%\n",
      "c_hard_coral_encrusting 13.10%\n",
      "c_hard_coral_foliose 3.17%\n",
      "c_hard_coral_mushroom 3.76%\n",
      "c_hard_coral_submassive 5.95%\n",
      "c_hard_coral_table 2.68%\n",
      "c_soft_coral 13.44%\n",
      "c_soft_coral_gorgonian 1.85%\n",
      "c_sponge 14.17%\n",
      "c_sponge_barrel 4.88%\n"
     ]
    }
   ],
   "source": [
    "for key, value in normalised_objects.items():\n",
    "    print(f'{key} {100*value:.2f}%')"
   ]
  },
  {
   "cell_type": "code",
   "execution_count": null,
   "metadata": {},
   "outputs": [],
   "source": [
    "normalised_pixels"
   ]
  },
  {
   "cell_type": "markdown",
   "metadata": {},
   "source": [
    "### 2. Pixel distribution per location"
   ]
  },
  {
   "cell_type": "code",
   "execution_count": null,
   "metadata": {},
   "outputs": [],
   "source": [
    "list_of_files = [\n",
    "    '../data/imageCLEFcoral2020_GT_geographicallyDistinct.csv',\n",
    "    '../data/imageCLEFcoral2020_GT_geographicallySimilar.csv',\n",
    "    '../data/imageCLEFcoral2020_GT_sameLocation.csv',\n",
    "    '../data/imageCLEFcoral2020_GT_similarLocation.csv'\n",
    "]\n",
    "for file in list_of_files:\n",
    "    print(file.split('/')[-1][:-4])\n",
    "    gt_test = read_annotations_gt(file=file, task=2)\n",
    "    pixel_images = convert_pixel_images(gt_test)\n",
    "    pixel_distribution, number_objects = calculate_distribution(pixel_images)\n",
    "    \n",
    "    s_pixels = sum(pixel_distribution.values())\n",
    "    s_objects = sum(number_objects.values())\n",
    "\n",
    "    normalised_pixels = {key:value/s_pixels for key, value in pixel_distribution.items()}\n",
    "    normalised_objects = {key:value/s_objects for key, value in number_objects.items()}\n",
    "    \n",
    "    print('\\nPixel distribution')\n",
    "    for key, value in normalised_pixels.items():\n",
    "        print(f'{key} {100*value:.2f}%')\n",
    "    print('\\nNumber of objects distribution')\n",
    "    for key, value in normalised_objects.items():\n",
    "        print(f'{key} {100*value:.2f}%')"
   ]
  },
  {
   "cell_type": "markdown",
   "metadata": {},
   "source": [
    "## 3. Pixel distribution for train data"
   ]
  },
  {
   "cell_type": "code",
   "execution_count": null,
   "metadata": {},
   "outputs": [],
   "source": [
    "gt_test = read_annotations_gt(file='../data/annotations_train_task_2.csv', task=2)"
   ]
  },
  {
   "cell_type": "code",
   "execution_count": null,
   "metadata": {},
   "outputs": [],
   "source": [
    "pixel_images = convert_pixel_images(gt_test)"
   ]
  },
  {
   "cell_type": "code",
   "execution_count": null,
   "metadata": {},
   "outputs": [],
   "source": [
    "pixel_distribution, number_objects = calculate_distribution(pixel_images)"
   ]
  },
  {
   "cell_type": "code",
   "execution_count": null,
   "metadata": {},
   "outputs": [],
   "source": [
    "s_pixels = sum(pixel_distribution.values())\n",
    "s_objects = sum(number_objects.values())\n",
    "\n",
    "normalised_pixels = {key:value/s_pixels for key, value in pixel_distribution.items()}\n",
    "normalised_objects = {key:value/s_objects for key, value in number_objects.items()}\n",
    "\n",
    "print('\\nPixel distribution')\n",
    "for key, value in normalised_pixels.items():\n",
    "    print(f'{key} {100*value:.2f}%')\n",
    "print('\\nNumber of objects distribution')\n",
    "for key, value in normalised_objects.items():\n",
    "    print(f'{key} {100*value:.2f}%')"
   ]
  },
  {
   "cell_type": "markdown",
   "metadata": {},
   "source": [
    "## 2. Same as before but without percentages and including unnatotated pixels"
   ]
  },
  {
   "cell_type": "code",
   "execution_count": null,
   "metadata": {},
   "outputs": [],
   "source": [
    "gt_test = read_annotations_gt(file='../data/annotations_train_task_2_corrected.csv', task=2)\n",
    "\n",
    "pixel_images = convert_pixel_images(gt_test)"
   ]
  },
  {
   "cell_type": "code",
   "execution_count": null,
   "metadata": {},
   "outputs": [],
   "source": [
    "pixel_distribution, number_objects = calculate_distribution(pixel_images)"
   ]
  },
  {
   "cell_type": "code",
   "execution_count": null,
   "metadata": {},
   "outputs": [],
   "source": [
    "pixel_distribution"
   ]
  },
  {
   "cell_type": "code",
   "execution_count": null,
   "metadata": {},
   "outputs": [],
   "source": [
    "for key, value in pixel_distribution.items():\n",
    "    print(f'{key} {value}')"
   ]
  },
  {
   "cell_type": "code",
   "execution_count": null,
   "metadata": {},
   "outputs": [],
   "source": [
    "list_of_files = [\n",
    "    '../../yam/plugins/imageCLEFcoral2020_GT_geographicallyDistinct.csv',\n",
    "    '../../yam/plugins/imageCLEFcoral2020_GT_geographicallySimilar.csv',\n",
    "    '../../yam/plugins/imageCLEFcoral2020_GT_sameLocation.csv',\n",
    "    '../../yam/plugins/imageCLEFcoral2020_GT_similarLocation.csv'\n",
    "]\n",
    "for file in list_of_files:\n",
    "    print(file.split('/')[-1][:-4] + '\\n')\n",
    "    gt_test = read_annotations_gt(file=file, task=2)\n",
    "    pixel_images = convert_pixel_images(gt_test)\n",
    "    pixel_distribution, number_objects = calculate_distribution(pixel_images)\n",
    "    \n",
    "    for key, value in pixel_distribution.items():\n",
    "        print(f'{key} {value}')\n",
    "        \n",
    "    print('\\n')"
   ]
  },
  {
   "cell_type": "code",
   "execution_count": null,
   "metadata": {},
   "outputs": [],
   "source": []
  }
 ],
 "metadata": {
  "kernelspec": {
   "display_name": "Python 3",
   "language": "python",
   "name": "python3"
  },
  "language_info": {
   "codemirror_mode": {
    "name": "ipython",
    "version": 3
   },
   "file_extension": ".py",
   "mimetype": "text/x-python",
   "name": "python",
   "nbconvert_exporter": "python",
   "pygments_lexer": "ipython3",
   "version": "3.8.10"
  }
 },
 "nbformat": 4,
 "nbformat_minor": 4
}
